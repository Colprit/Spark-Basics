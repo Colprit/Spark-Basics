{
 "cells": [
  {
   "cell_type": "markdown",
   "id": "optical-skirt",
   "metadata": {},
   "source": [
    "### Highways England API:\n",
    "\n",
    "https://webtris.highwaysengland.co.uk/api/swagger/ui/index#!/Sites/Sites_Index_0"
   ]
  },
  {
   "cell_type": "code",
   "execution_count": null,
   "id": "large-melbourne",
   "metadata": {},
   "outputs": [],
   "source": [
    "!pip install requests"
   ]
  },
  {
   "cell_type": "code",
   "execution_count": 5,
   "id": "immediate-discussion",
   "metadata": {},
   "outputs": [],
   "source": [
    "import requests\n",
    "import json"
   ]
  },
  {
   "cell_type": "markdown",
   "id": "noticed-fetish",
   "metadata": {},
   "source": [
    "#### Simple function to assemble API get requests for Highways API"
   ]
  },
  {
   "cell_type": "code",
   "execution_count": 6,
   "id": "billion-flower",
   "metadata": {},
   "outputs": [],
   "source": [
    "def build_url(\n",
    "    api_url = 'http://webtris.highwaysengland.co.uk/api/v1.0/',\n",
    "    endpoint = 'reports/daily',\n",
    "    query_params = {}\n",
    "):\n",
    "    query_params_str = '&'.join([f'{k}={v}' for k, v in query_params.items()])\n",
    "\n",
    "    request_url = f'{api_url}/{endpoint}?{query_params_str}'\n",
    "\n",
    "    return request_url"
   ]
  },
  {
   "cell_type": "code",
   "execution_count": 7,
   "id": "subject-version",
   "metadata": {},
   "outputs": [],
   "source": [
    "def get_request(url):\n",
    "\n",
    "    response = requests.get(url)\n",
    "    \n",
    "    response_json = json.loads(response.text)\n",
    "\n",
    "    return response_json"
   ]
  },
  {
   "cell_type": "markdown",
   "id": "early-elder",
   "metadata": {},
   "source": [
    "#### Get site data"
   ]
  },
  {
   "cell_type": "code",
   "execution_count": 8,
   "id": "broke-somewhere",
   "metadata": {},
   "outputs": [
    {
     "name": "stdout",
     "output_type": "stream",
     "text": [
      "{\n",
      "    \"row_count\": 1,\n",
      "    \"sites\": [\n",
      "        {\n",
      "            \"Id\": \"8188\",\n",
      "            \"Name\": \"TMU Site 7001/1 on link A46 northbound between B439 and A435 near Alcester; GPS Ref: 407983;251953; Northbound\",\n",
      "            \"Description\": \"7001/1\",\n",
      "            \"Longitude\": -1.88469556975806,\n",
      "            \"Latitude\": 52.1658012090139,\n",
      "            \"Status\": \"Active\"\n",
      "        }\n",
      "    ]\n",
      "}\n",
      "written to file: site_8188.json\n"
     ]
    }
   ],
   "source": [
    "query_params = {}\n",
    "\n",
    "request_url = build_url(\n",
    "    endpoint='sites/8188',\n",
    "    query_params=query_params\n",
    ")\n",
    "\n",
    "response_json = get_request(request_url)\n",
    "\n",
    "print(json.dumps(response_json, indent=4))\n",
    "\n",
    "\n",
    "filename = \"site_8188.json\"\n",
    "\n",
    "with open(filename, 'w') as f:\n",
    "    \n",
    "    json.dump(response_json, f)\n",
    "    \n",
    "    print(f'written to file: {filename}')"
   ]
  },
  {
   "cell_type": "markdown",
   "id": "pharmaceutical-offering",
   "metadata": {},
   "source": [
    "#### Get report data"
   ]
  },
  {
   "cell_type": "code",
   "execution_count": null,
   "id": "polish-packing",
   "metadata": {},
   "outputs": [],
   "source": [
    "query_params = {\n",
    "    'sites': 8188,\n",
    "    'start_date': 31032016,\n",
    "    'end_date': 31032017,\n",
    "    'page': 1,\n",
    "    'page_size': 50\n",
    "}\n",
    "\n",
    "request_url = build_url(query_params=query_params)\n",
    "\n",
    "response_json = get_request(request_url)\n",
    "\n",
    "print(json.dumps(response_json, indent=4))"
   ]
  },
  {
   "cell_type": "markdown",
   "id": "pharmaceutical-outdoors",
   "metadata": {},
   "source": [
    "#### API responses include links to previous and next pages of data, these can be used to automate pagination through them all"
   ]
  },
  {
   "cell_type": "code",
   "execution_count": null,
   "id": "electrical-advocacy",
   "metadata": {},
   "outputs": [],
   "source": [
    "response_json['Header']['links'][0]['href']"
   ]
  },
  {
   "cell_type": "code",
   "execution_count": null,
   "id": "annual-special",
   "metadata": {},
   "outputs": [],
   "source": [
    "def get_next_url(response):\n",
    "    \n",
    "    header = response['Header']\n",
    "    \n",
    "    links = header['links']\n",
    "    \n",
    "    for link in links:\n",
    "        \n",
    "        if link['rel'] == 'nextPage':\n",
    "            \n",
    "            return link['href']\n",
    "    \n",
    "    return None"
   ]
  },
  {
   "cell_type": "code",
   "execution_count": null,
   "id": "sticky-jimmy",
   "metadata": {},
   "outputs": [],
   "source": [
    "def get_all_pages(api_url):\n",
    "    \n",
    "    data = []\n",
    "    \n",
    "    next_url = api_url\n",
    "    \n",
    "    while next_url:\n",
    "        \n",
    "        print(next_url)\n",
    "        \n",
    "        response_json = get_request(next_url)\n",
    "\n",
    "        next_url = get_next_url(response_json)\n",
    "\n",
    "        data += response_json['Rows']\n",
    "    \n",
    "    return data"
   ]
  },
  {
   "cell_type": "code",
   "execution_count": null,
   "id": "engaging-bankruptcy",
   "metadata": {},
   "outputs": [],
   "source": [
    "params = {\n",
    "    'sites': 8188,\n",
    "    'start_date': 31012020,\n",
    "    'end_date':   31072020,\n",
    "    'page': 1,\n",
    "    'page_size': 50\n",
    "}\n",
    "\n",
    "request_url = build_url(query_params=params)\n",
    "\n",
    "all_pages = get_all_pages(request_url)\n",
    "\n",
    "# print(json.dumps(all_pages, indent=4))\n",
    "\n",
    "\n",
    "\n",
    "filename = f\"report_daily_{params['sites']}_{params['start_date']}_{params['end_date']}.json\"\n",
    "\n",
    "with open(filename, 'w') as f:\n",
    "    \n",
    "    json.dump(all_pages, f)\n",
    "    \n",
    "    print(f'written to file: {filename}')"
   ]
  }
 ],
 "metadata": {
  "kernelspec": {
   "display_name": "Python 3",
   "language": "python",
   "name": "python3"
  },
  "language_info": {
   "codemirror_mode": {
    "name": "ipython",
    "version": 3
   },
   "file_extension": ".py",
   "mimetype": "text/x-python",
   "name": "python",
   "nbconvert_exporter": "python",
   "pygments_lexer": "ipython3",
   "version": "3.8.6"
  }
 },
 "nbformat": 4,
 "nbformat_minor": 5
}
